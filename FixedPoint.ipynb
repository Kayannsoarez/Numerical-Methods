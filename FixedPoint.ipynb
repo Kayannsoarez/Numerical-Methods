{
 "cells": [
  {
   "cell_type": "code",
   "execution_count": 1,
   "metadata": {},
   "outputs": [],
   "source": [
    "# Importando a biblioteca numpy e default_timer\n",
    "import numpy as np\n",
    "from timeit import default_timer as timer"
   ]
  },
  {
   "cell_type": "code",
   "execution_count": 2,
   "metadata": {},
   "outputs": [],
   "source": [
    "# Define a função de iteração\n",
    "def f(x):\n",
    "    return x**3 - x - 1\n",
    "    \n",
    "# Define a derivada da função de iteração\n",
    "def g(x):\n",
    "    return (x + 1)**(1/3)\n",
    "    \n",
    "# Calcula a Raiz\n",
    "x = 1"
   ]
  },
  {
   "cell_type": "code",
   "execution_count": 3,
   "metadata": {},
   "outputs": [],
   "source": [
    "def FixedPoint(f, g, x, epsilon=1e-6, disp=False):\n",
    "    iterNum = 2;\n",
    "    \n",
    "    start = timer()\n",
    "    while True:\n",
    "        xi=g(x)\n",
    "    \n",
    "        if (abs(f(xi)) < epsilon) or (abs(xi-x) < epsilon):\n",
    "            break\n",
    "            \n",
    "        if disp:\n",
    "            print(\"Iter: %3d | x: %+.7e | f(x): %+.7e | f'(x): %+.7e | x: %+.7e\" \\\n",
    "               % (iterNum, x, f(x), g(x), xi))\n",
    "        \n",
    "        x = xi;\n",
    "        iterNum += 1\n",
    "    end = timer()\n",
    "    \n",
    "    print(\"Tempo de execução total: %e segundos\" % (end - start))\n",
    "         \n",
    "    return x"
   ]
  },
  {
   "cell_type": "code",
   "execution_count": 4,
   "metadata": {},
   "outputs": [
    {
     "name": "stdout",
     "output_type": "stream",
     "text": [
      "Iter:   2 | x: +1.0000000e+00 | f(x): -1.0000000e+00 | f'(x): +1.2599210e+00 | x: +1.2599210e+00\n",
      "Iter:   3 | x: +1.2599210e+00 | f(x): -2.5992105e-01 | f'(x): +1.3122938e+00 | x: +1.3122938e+00\n",
      "Iter:   4 | x: +1.3122938e+00 | f(x): -5.2372787e-02 | f'(x): +1.3223538e+00 | x: +1.3223538e+00\n",
      "Iter:   5 | x: +1.3223538e+00 | f(x): -1.0059982e-02 | f'(x): +1.3242687e+00 | x: +1.3242687e+00\n",
      "Iter:   6 | x: +1.3242687e+00 | f(x): -1.9149254e-03 | f'(x): +1.3246326e+00 | x: +1.3246326e+00\n",
      "Iter:   7 | x: +1.3246326e+00 | f(x): -3.6388070e-04 | f'(x): +1.3247017e+00 | x: +1.3247017e+00\n",
      "Iter:   8 | x: +1.3247017e+00 | f(x): -6.9123259e-05 | f'(x): +1.3247149e+00 | x: +1.3247149e+00\n",
      "Iter:   9 | x: +1.3247149e+00 | f(x): -1.3129931e-05 | f'(x): +1.3247174e+00 | x: +1.3247174e+00\n",
      "Tempo de execução total: 1.212415e-02 segundos\n"
     ]
    },
    {
     "data": {
      "text/plain": [
       "1.324717372435671"
      ]
     },
     "execution_count": 4,
     "metadata": {},
     "output_type": "execute_result"
    }
   ],
   "source": [
    "# Chama a função passando os parâmetros\n",
    "FixedPoint(f, g, x, epsilon=1e-6, disp=True)"
   ]
  }
 ],
 "metadata": {
  "kernelspec": {
   "display_name": "Python 3",
   "language": "python",
   "name": "python3"
  },
  "language_info": {
   "codemirror_mode": {
    "name": "ipython",
    "version": 3
   },
   "file_extension": ".py",
   "mimetype": "text/x-python",
   "name": "python",
   "nbconvert_exporter": "python",
   "pygments_lexer": "ipython3",
   "version": "3.6.5"
  }
 },
 "nbformat": 4,
 "nbformat_minor": 2
}
