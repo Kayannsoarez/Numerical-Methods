{
 "cells": [
  {
   "cell_type": "code",
   "execution_count": 1,
   "metadata": {},
   "outputs": [],
   "source": [
    "# Importando a biblioteca numpy e default_timer\n",
    "import numpy as np\n",
    "from timeit import default_timer as timer"
   ]
  },
  {
   "cell_type": "code",
   "execution_count": 2,
   "metadata": {},
   "outputs": [],
   "source": [
    "# Cria a função no qual a raiz deve ser calculada\n",
    "def f(x):\n",
    "    return x**3 - x - 1\n",
    "\n",
    "# Define a derivada da função de iteração\n",
    "def df(x):\n",
    "    return 3*(x**2) - 1\n",
    "\n",
    "x = np.arange(1, 2)"
   ]
  },
  {
   "cell_type": "code",
   "execution_count": 3,
   "metadata": {},
   "outputs": [],
   "source": [
    "# Implementa o método de Newton-Raphson\n",
    "def NewtonR(f, df, x0, epsilon=1e-6, disp=False):\n",
    "    iterNum = 1;\n",
    "    \n",
    "    start = timer()\n",
    "    while True:\n",
    "        x = x0 - f(x0)/df(x0)\n",
    "        \n",
    "        if disp:\n",
    "            print(\"Iter: %3d | x: %+.7e | f(x): %+.7e | f'(x): %+.7e | x: %+.7e\" \\\n",
    "               % (iterNum, x0, f(x0), df(x0), x))\n",
    "        \n",
    "        if abs(x - x0) < epsilon:\n",
    "            break;\n",
    "        \n",
    "        x0 = x;\n",
    "        iterNum += 1\n",
    "    end = timer()\n",
    "    \n",
    "    print(\"Tempo de execução total: %e segundos\" % (end - start))\n",
    "    \n",
    "    return x"
   ]
  },
  {
   "cell_type": "code",
   "execution_count": 4,
   "metadata": {},
   "outputs": [
    {
     "name": "stdout",
     "output_type": "stream",
     "text": [
      "Iter:   1 | x: +0.0000000e+00 | f(x): -1.0000000e+00 | f'(x): -1.0000000e+00 | x: -1.0000000e+00\n",
      "Iter:   2 | x: -1.0000000e+00 | f(x): -1.0000000e+00 | f'(x): +2.0000000e+00 | x: -5.0000000e-01\n",
      "Iter:   3 | x: -5.0000000e-01 | f(x): -6.2500000e-01 | f'(x): -2.5000000e-01 | x: -3.0000000e+00\n",
      "Iter:   4 | x: -3.0000000e+00 | f(x): -2.5000000e+01 | f'(x): +2.6000000e+01 | x: -2.0384615e+00\n",
      "Iter:   5 | x: -2.0384615e+00 | f(x): -7.4320096e+00 | f'(x): +1.1465976e+01 | x: -1.3902821e+00\n",
      "Iter:   6 | x: -1.3902821e+00 | f(x): -2.2969726e+00 | f'(x): +4.7986533e+00 | x: -9.1161190e-01\n",
      "Iter:   7 | x: -9.1161190e-01 | f(x): -8.4597064e-01 | f'(x): +1.4931088e+00 | x: -3.4502850e-01\n",
      "Iter:   8 | x: -3.4502850e-01 | f(x): -6.9604530e-01 | f'(x): -6.4286601e-01 | x: -1.4277507e+00\n",
      "Iter:   9 | x: -1.4277507e+00 | f(x): -2.4826792e+00 | f'(x): +5.1154162e+00 | x: -9.4241791e-01\n",
      "Iter:  10 | x: -9.4241791e-01 | f(x): -8.9459199e-01 | f'(x): +1.6644546e+00 | x: -4.0494936e-01\n",
      "Iter:  11 | x: -4.0494936e-01 | f(x): -6.6145585e-01 | f'(x): -5.0804805e-01 | x: -1.7069046e+00\n",
      "Iter:  12 | x: -1.7069046e+00 | f(x): -4.2662021e+00 | f'(x): +7.7405704e+00 | x: -1.1557564e+00\n",
      "Iter:  13 | x: -1.1557564e+00 | f(x): -1.3880715e+00 | f'(x): +3.0073183e+00 | x: -6.9419181e-01\n",
      "Iter:  14 | x: -6.9419181e-01 | f(x): -6.4034080e-01 | f'(x): +4.4570682e-01 | x: +7.4249430e-01\n",
      "Iter:  15 | x: +7.4249430e-01 | f(x): -1.3331588e+00 | f'(x): +6.5389335e-01 | x: +2.7812959e+00\n",
      "Iter:  16 | x: +2.7812959e+00 | f(x): +1.7733717e+01 | f'(x): +2.2206821e+01 | x: +1.9827252e+00\n",
      "Iter:  17 | x: +1.9827252e+00 | f(x): +4.8117631e+00 | f'(x): +1.0793598e+01 | x: +1.5369274e+00\n",
      "Iter:  18 | x: +1.5369274e+00 | f(x): +1.0935191e+00 | f'(x): +6.0864373e+00 | x: +1.3572625e+00\n",
      "Iter:  19 | x: +1.3572625e+00 | f(x): +1.4303414e-01 | f'(x): +4.5264843e+00 | x: +1.3256631e+00\n",
      "Iter:  20 | x: +1.3256631e+00 | f(x): +4.0342141e-03 | f'(x): +4.2721479e+00 | x: +1.3247188e+00\n",
      "Iter:  21 | x: +1.3247188e+00 | f(x): +3.5454929e-06 | f'(x): +4.2646396e+00 | x: +1.3247180e+00\n",
      "Tempo de execução total: 2.472163e-02 segundos\n"
     ]
    },
    {
     "data": {
      "text/plain": [
       "1.3247179572453902"
      ]
     },
     "execution_count": 4,
     "metadata": {},
     "output_type": "execute_result"
    }
   ],
   "source": [
    "# Chama a função passando os parâmetros\n",
    "NewtonR(f, df, 0, epsilon=1e-6, disp=True)"
   ]
  },
  {
   "cell_type": "code",
   "execution_count": null,
   "metadata": {},
   "outputs": [],
   "source": []
  }
 ],
 "metadata": {
  "kernelspec": {
   "display_name": "Python 3",
   "language": "python",
   "name": "python3"
  },
  "language_info": {
   "codemirror_mode": {
    "name": "ipython",
    "version": 3
   },
   "file_extension": ".py",
   "mimetype": "text/x-python",
   "name": "python",
   "nbconvert_exporter": "python",
   "pygments_lexer": "ipython3",
   "version": "3.6.5"
  }
 },
 "nbformat": 4,
 "nbformat_minor": 2
}
