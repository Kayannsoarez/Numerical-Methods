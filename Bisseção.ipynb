{
 "cells": [
  {
   "cell_type": "markdown",
   "metadata": {},
   "source": [
    "## Método da Bisseção:"
   ]
  },
  {
   "cell_type": "code",
   "execution_count": 43,
   "metadata": {},
   "outputs": [],
   "source": [
    "import math \n",
    "from timeit import default_timer as timer\n"
   ]
  },
  {
   "cell_type": "code",
   "execution_count": 44,
   "metadata": {},
   "outputs": [],
   "source": [
    "def f(x):\n",
    "    return x**3 - 10*(x**2) + 5 \n",
    "\n",
    "a, b = 0, 1"
   ]
  },
  {
   "cell_type": "code",
   "execution_count": 45,
   "metadata": {},
   "outputs": [],
   "source": [
    "def Bisection(f, a, b, epsilon=1e-4,disp=False):\n",
    "    iterNum = 0\n",
    "    x = (a+b)/2\n",
    "    fa, fb, fx = f(a), f(b), f(x)\n",
    "    \n",
    "    if fa*fb >= 0:\n",
    "        print(\"Error!!!\")\n",
    "        return\n",
    "    \n",
    "    if disp:\n",
    "        print( \"Iter: %3u|a: %.5e|b: %.5e|x: %.5e|f(a): %.5e|f(b): %.5e|f(x): %.5e\" % \\\n",
    "             (iterNum, a, b, x, fa, fb, fx))\n",
    "    \n",
    "    while abs(fx) > epsilon:\n",
    "        iterNum = iterNum+1\n",
    "        if fa*fx < 0:\n",
    "            b = x;\n",
    "            fb = fx;\n",
    "        if fb*fx < 0:\n",
    "            a = x;\n",
    "            fa = fx;\n",
    "        x = (a+b)/2\n",
    "        fx = f(x)\n",
    "        if disp:\n",
    "            print( \"Iter: %3u|a: %.5e|b: %.5e|x: %.5e|f(a): %.5e|f(b): %.5e|f(x): %.5e\" % \\\n",
    "                (iterNum, a, b, x, fa, fb, fx))\n",
    "\n",
    "    return x"
   ]
  },
  {
   "cell_type": "code",
   "execution_count": 46,
   "metadata": {},
   "outputs": [
    {
     "name": "stdout",
     "output_type": "stream",
     "text": [
      "Tempo de execução total: 6.398900e-05 segundos\n",
      "\n",
      "Iter:   0|a: 0.00000e+00|b: 1.00000e+00|x: 5.00000e-01|f(a): 5.00000e+00|f(b): -4.00000e+00|f(x): 2.62500e+00\n",
      "Iter:   1|a: 5.00000e-01|b: 1.00000e+00|x: 7.50000e-01|f(a): 2.62500e+00|f(b): -4.00000e+00|f(x): -2.03125e-01\n",
      "Iter:   2|a: 5.00000e-01|b: 7.50000e-01|x: 6.25000e-01|f(a): 2.62500e+00|f(b): -2.03125e-01|f(x): 1.33789e+00\n",
      "Iter:   3|a: 6.25000e-01|b: 7.50000e-01|x: 6.87500e-01|f(a): 1.33789e+00|f(b): -2.03125e-01|f(x): 5.98389e-01\n",
      "Iter:   4|a: 6.87500e-01|b: 7.50000e-01|x: 7.18750e-01|f(a): 5.98389e-01|f(b): -2.03125e-01|f(x): 2.05292e-01\n",
      "Iter:   5|a: 7.18750e-01|b: 7.50000e-01|x: 7.34375e-01|f(a): 2.05292e-01|f(b): -2.03125e-01|f(x): 2.98691e-03\n",
      "Iter:   6|a: 7.34375e-01|b: 7.50000e-01|x: 7.42188e-01|f(a): 2.98691e-03|f(b): -2.03125e-01|f(x): -9.95946e-02\n",
      "Iter:   7|a: 7.34375e-01|b: 7.42188e-01|x: 7.38281e-01|f(a): 2.98691e-03|f(b): -9.95946e-02|f(x): -4.81851e-02\n",
      "Iter:   8|a: 7.34375e-01|b: 7.38281e-01|x: 7.36328e-01|f(a): 2.98691e-03|f(b): -4.81851e-02|f(x): -2.25694e-02\n",
      "Iter:   9|a: 7.34375e-01|b: 7.36328e-01|x: 7.35352e-01|f(a): 2.98691e-03|f(b): -2.25694e-02|f(x): -9.78379e-03\n",
      "Iter:  10|a: 7.34375e-01|b: 7.35352e-01|x: 7.34863e-01|f(a): 2.98691e-03|f(b): -9.78379e-03|f(x): -3.39658e-03\n",
      "Iter:  11|a: 7.34375e-01|b: 7.34863e-01|x: 7.34619e-01|f(a): 2.98691e-03|f(b): -3.39658e-03|f(x): -2.04372e-04\n",
      "Iter:  12|a: 7.34375e-01|b: 7.34619e-01|x: 7.34497e-01|f(a): 2.98691e-03|f(b): -2.04372e-04|f(x): 1.39138e-03\n",
      "Iter:  13|a: 7.34497e-01|b: 7.34619e-01|x: 7.34558e-01|f(a): 1.39138e-03|f(b): -2.04372e-04|f(x): 5.93535e-04\n",
      "Iter:  14|a: 7.34558e-01|b: 7.34619e-01|x: 7.34589e-01|f(a): 5.93535e-04|f(b): -2.04372e-04|f(x): 1.94589e-04\n",
      "Iter:  15|a: 7.34589e-01|b: 7.34619e-01|x: 7.34604e-01|f(a): 1.94589e-04|f(b): -2.04372e-04|f(x): -4.88997e-06\n"
     ]
    },
    {
     "data": {
      "text/plain": [
       "0.7346038818359375"
      ]
     },
     "execution_count": 46,
     "metadata": {},
     "output_type": "execute_result"
    }
   ],
   "source": [
    "# Tempo de execução\n",
    "start = timer()\n",
    "# algoritmo\n",
    "end = timer()\n",
    "print(\"Tempo de execução total: %e segundos\" % (end - start))\n",
    "print(\"\")\n",
    "\n",
    "Bisection(f, a, b, epsilon=1e-4, disp=True)\n"
   ]
  },
  {
   "cell_type": "code",
   "execution_count": null,
   "metadata": {
    "collapsed": true
   },
   "outputs": [],
   "source": []
  }
 ],
 "metadata": {
  "kernelspec": {
   "display_name": "Python 3",
   "language": "python",
   "name": "python3"
  },
  "language_info": {
   "codemirror_mode": {
    "name": "ipython",
    "version": 3
   },
   "file_extension": ".py",
   "mimetype": "text/x-python",
   "name": "python",
   "nbconvert_exporter": "python",
   "pygments_lexer": "ipython3",
   "version": "3.6.3"
  }
 },
 "nbformat": 4,
 "nbformat_minor": 2
}
