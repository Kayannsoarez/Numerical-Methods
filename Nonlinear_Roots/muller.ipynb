{
  "nbformat": 4,
  "nbformat_minor": 0,
  "metadata": {
    "colab": {
      "provenance": []
    },
    "kernelspec": {
      "name": "python3",
      "display_name": "Python 3"
    },
    "language_info": {
      "name": "python"
    }
  },
  "cells": [
    {
      "cell_type": "code",
      "execution_count": 1,
      "metadata": {
        "id": "hHTHDsMIPMyg"
      },
      "outputs": [],
      "source": [
        "import cmath\n",
        "import time"
      ]
    },
    {
      "cell_type": "code",
      "source": [
        "# Cria a função na qual a raiz deve ser calculada\n",
        "def f(x):\n",
        "    return 4*x**5 + 2*x**4 + 9*x**3 + 8*x**2 + 6*x + 6"
      ],
      "metadata": {
        "id": "g1VA7ZZbPsmV"
      },
      "execution_count": 2,
      "outputs": []
    },
    {
      "cell_type": "code",
      "source": [
        "# Implementa o Método de Muller para encontrar raízes de uma função.\n",
        "def muller(f, x0, x1, x2, epsilon=1e-6):\n",
        "\n",
        "    # Diferença entre x1 e x0\n",
        "    h1 = x1 - x0\n",
        "    # Diferença entre x2 e x1\n",
        "    h2 = x2 - x1\n",
        "    # Valor da função em x0  \n",
        "    f0 = f(x0)\n",
        "    # Valor da função em x1   \n",
        "    f1 = f(x1)\n",
        "    # Valor da função em x2   \n",
        "    f2 = f(x2)   \n",
        "\n",
        "    iterations = 0\n",
        "    max_iterations = 100\n",
        "\n",
        "    while iterations < max_iterations:\n",
        "        iterations += 1\n",
        "        # Diferença dividida de primeira ordem\n",
        "        delta1 = (f1 - f0) / h1\n",
        "        # Diferença dividida de primeira ordem  \n",
        "        delta2 = (f2 - f1) / h2 \n",
        "        # Coeficiente a da interpolação\n",
        "        a = (delta2 - delta1) / (h2 + h1)\n",
        "        # Coeficiente b da interpolação  \n",
        "        b = a * h2 + delta2\n",
        "        # Coeficiente c da interpolação \n",
        "        c = f2  \n",
        "\n",
        "        # Discriminante da fórmula quadrática\n",
        "        discriminant = cmath.sqrt(b * b - 4 * a * c)  \n",
        "        if abs(b - discriminant) > abs(b + discriminant):\n",
        "            denominator = b - discriminant\n",
        "        else:\n",
        "            denominator = b + discriminant\n",
        "\n",
        "        if denominator != 0:\n",
        "            # Calcula a correção da raiz xr\n",
        "            dxr = -2 * c / denominator  \n",
        "        else:\n",
        "            dxr = -2 * c / (b + discriminant)\n",
        "\n",
        "        # Atualiza a raiz xr\n",
        "        xr = x2 + dxr\n",
        "        # Valor da função em xr  \n",
        "        fxr = f(xr)   \n",
        "        \n",
        "        # Verifica se a raiz é suficientemente próxima de zero\n",
        "        if abs(fxr) < epsilon:  \n",
        "            return xr, iterations\n",
        "\n",
        "        # Atualiza os valores para a próxima iteração\n",
        "        x0, x1, x2 = x1, x2, xr\n",
        "        h1 = x1 - x0\n",
        "        h2 = x2 - x1\n",
        "        f0 = f1\n",
        "        f1 = f2\n",
        "        f2 = fxr\n",
        "\n",
        "    return None, iterations"
      ],
      "metadata": {
        "id": "oIDqSeg2Pxw7"
      },
      "execution_count": 3,
      "outputs": []
    },
    {
      "cell_type": "code",
      "source": [
        "start = time.time()\n",
        "root, iterations = muller(f, 0, 1, 2)\n",
        "end = time.time()\n",
        "\n",
        "execution_time = (end - start)\n",
        "\n",
        "print(\"A raiz encontrada é:\", root)\n",
        "print(\"Número de iterações:\", iterations)\n",
        "print(\"Tempo de execução:\", execution_time, \"segundos\")"
      ],
      "metadata": {
        "colab": {
          "base_uri": "https://localhost:8080/"
        },
        "id": "HdAiuOs3P0yN",
        "outputId": "1cca3bba-c5cd-4928-862a-7bc6f4be61a5"
      },
      "execution_count": 4,
      "outputs": [
        {
          "output_type": "stream",
          "name": "stdout",
          "text": [
            "A raiz encontrada é: (-0.1050383487137913+1.0088566395015814j)\n",
            "Número de iterações: 11\n",
            "Tempo de execução: 0.00014066696166992188 segundos\n"
          ]
        }
      ]
    }
  ]
}