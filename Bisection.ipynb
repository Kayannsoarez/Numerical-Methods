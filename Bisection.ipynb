{
 "cells": [
  {
   "cell_type": "code",
   "execution_count": 14,
   "metadata": {},
   "outputs": [],
   "source": [
    "# Importando a biblioteca numpy e default_timer\n",
    "import numpy as np\n",
    "from timeit import default_timer as timer"
   ]
  },
  {
   "cell_type": "code",
   "execution_count": 15,
   "metadata": {},
   "outputs": [],
   "source": [
    "# Cria a função no qual a raiz deve ser calculada\n",
    "def f(x):\n",
    "    return np.cosh(x) * np.cos(x)\n",
    "\n",
    "# Define os limites do intervalo que contém a raiz\n",
    "a = 4\n",
    "b = 5"
   ]
  },
  {
   "cell_type": "code",
   "execution_count": 16,
   "metadata": {},
   "outputs": [],
   "source": [
    "# Implementa o método da bisseção\n",
    "def Bisection(f, a, b, epsilon=1e-5, disp=False):\n",
    "    iterNum = 0\n",
    "    x = (a+b)/2\n",
    "    \n",
    "    fa = f(a)\n",
    "    fb = f(b)\n",
    "    fx = f(x)\n",
    "    \n",
    "    if fa*fb >= 0:\n",
    "        print(\"Error!\")\n",
    "        return\n",
    "    \n",
    "    if disp:\n",
    "        print( \"Iter: %3u|a: %.5e|b: %.5e|x: %.5e|f(a): %.5e|f(b): %.5e|f(x): %.5e\" % \\\n",
    "              (iterNum, a, b, x, fa, fb, fx) )\n",
    "    \n",
    "    # Considera tolerância no valor da função\n",
    "    while abs(fx) > epsilon:\n",
    "        iterNum = iterNum+1\n",
    "        if fa*fx < 0:\n",
    "            b = x;\n",
    "            fb = fx;\n",
    "        if fb*fx < 0:\n",
    "            a = x;\n",
    "            fa = fx;\n",
    "        x = (a+b)/2\n",
    "        fx = f(x)\n",
    "        if disp:\n",
    "            print( \"Iter: %3u|a: %.5e|b: %.5e|x: %.5e|f(a): %.5e|f(b): %.5e|f(x): %.5e\" % \\\n",
    "                  (iterNum, a, b, x, fa, fb, fx) )\n",
    "\n",
    "    return x"
   ]
  },
  {
   "cell_type": "code",
   "execution_count": 17,
   "metadata": {},
   "outputs": [
    {
     "name": "stdout",
     "output_type": "stream",
     "text": [
      "Tempo de execução total: 6.196200e-05 segundos\n",
      "\n",
      "Iter:   0|a: 4.00000e+00|b: 5.00000e+00|x: 4.50000e+00|f(a): -1.78499e+01|f(b): 2.10506e+01|f(x): -9.48879e+00\n",
      "Iter:   1|a: 4.50000e+00|b: 5.00000e+00|x: 4.75000e+00|f(a): -9.48879e+00|f(b): 2.10506e+01|f(x): 2.17327e+00\n",
      "Iter:   2|a: 4.50000e+00|b: 4.75000e+00|x: 4.62500e+00|f(a): -9.48879e+00|f(b): 2.17327e+00|f(x): -4.45172e+00\n",
      "Iter:   3|a: 4.62500e+00|b: 4.75000e+00|x: 4.68750e+00|f(a): -4.45172e+00|f(b): 2.17327e+00|f(x): -1.35122e+00\n",
      "Iter:   4|a: 4.68750e+00|b: 4.75000e+00|x: 4.71875e+00|f(a): -1.35122e+00|f(b): 2.17327e+00|f(x): 3.56333e-01\n",
      "Iter:   5|a: 4.68750e+00|b: 4.71875e+00|x: 4.70312e+00|f(a): -1.35122e+00|f(b): 3.56333e-01|f(x): -5.10903e-01\n",
      "Iter:   6|a: 4.70312e+00|b: 4.71875e+00|x: 4.71094e+00|f(a): -5.10903e-01|f(b): 3.56333e-01|f(x): -8.06771e-02\n",
      "Iter:   7|a: 4.71094e+00|b: 4.71875e+00|x: 4.71484e+00|f(a): -8.06771e-02|f(b): 3.56333e-01|f(x): 1.36976e-01\n",
      "Iter:   8|a: 4.71094e+00|b: 4.71484e+00|x: 4.71289e+00|f(a): -8.06771e-02|f(b): 1.36976e-01|f(x): 2.79372e-02\n",
      "Iter:   9|a: 4.71094e+00|b: 4.71289e+00|x: 4.71191e+00|f(a): -8.06771e-02|f(b): 2.79372e-02|f(x): -2.64230e-02\n",
      "Iter:  10|a: 4.71191e+00|b: 4.71289e+00|x: 4.71240e+00|f(a): -2.64230e-02|f(b): 2.79372e-02|f(x): 7.43860e-04\n",
      "Iter:  11|a: 4.71191e+00|b: 4.71240e+00|x: 4.71216e+00|f(a): -2.64230e-02|f(b): 7.43860e-04|f(x): -1.28429e-02\n",
      "Iter:  12|a: 4.71216e+00|b: 4.71240e+00|x: 4.71228e+00|f(a): -1.28429e-02|f(b): 7.43860e-04|f(x): -6.05034e-03\n",
      "Iter:  13|a: 4.71228e+00|b: 4.71240e+00|x: 4.71234e+00|f(a): -6.05034e-03|f(b): 7.43860e-04|f(x): -2.65345e-03\n",
      "Iter:  14|a: 4.71234e+00|b: 4.71240e+00|x: 4.71237e+00|f(a): -2.65345e-03|f(b): 7.43860e-04|f(x): -9.54845e-04\n",
      "Iter:  15|a: 4.71237e+00|b: 4.71240e+00|x: 4.71239e+00|f(a): -9.54845e-04|f(b): 7.43860e-04|f(x): -1.05505e-04\n",
      "Iter:  16|a: 4.71239e+00|b: 4.71240e+00|x: 4.71239e+00|f(a): -1.05505e-04|f(b): 7.43860e-04|f(x): 3.19174e-04\n",
      "Iter:  17|a: 4.71239e+00|b: 4.71239e+00|x: 4.71239e+00|f(a): -1.05505e-04|f(b): 3.19174e-04|f(x): 1.06833e-04\n",
      "Iter:  18|a: 4.71239e+00|b: 4.71239e+00|x: 4.71239e+00|f(a): -1.05505e-04|f(b): 1.06833e-04|f(x): 6.63779e-07\n"
     ]
    },
    {
     "data": {
      "text/plain": [
       "4.71238899230957"
      ]
     },
     "execution_count": 17,
     "metadata": {},
     "output_type": "execute_result"
    }
   ],
   "source": [
    "# Tempo de execução\n",
    "start = timer()\n",
    "# algoritmo\n",
    "end = timer()\n",
    "print(\"Tempo de execução total: %e segundos\" % (end - start))\n",
    "print(\"\")\n",
    "\n",
    "# Chama a função passando os parâmetros\n",
    "Bisection(f, a, b, epsilon=1e-5, disp=True)"
   ]
  },
  {
   "cell_type": "code",
   "execution_count": null,
   "metadata": {},
   "outputs": [],
   "source": []
  }
 ],
 "metadata": {
  "kernelspec": {
   "display_name": "Python 3",
   "language": "python",
   "name": "python3"
  },
  "language_info": {
   "codemirror_mode": {
    "name": "ipython",
    "version": 3
   },
   "file_extension": ".py",
   "mimetype": "text/x-python",
   "name": "python",
   "nbconvert_exporter": "python",
   "pygments_lexer": "ipython3",
   "version": "3.6.3"
  }
 },
 "nbformat": 4,
 "nbformat_minor": 2
}
