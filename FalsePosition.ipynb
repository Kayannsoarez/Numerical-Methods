{
 "cells": [
  {
   "cell_type": "code",
   "execution_count": 1,
   "metadata": {},
   "outputs": [],
   "source": [
    "# Importando a biblioteca numpy e default_timer\n",
    "import numpy as np\n",
    "from timeit import default_timer as timer"
   ]
  },
  {
   "cell_type": "code",
   "execution_count": 2,
   "metadata": {},
   "outputs": [],
   "source": [
    "# Cria a função no qual a raiz deve ser calculada\n",
    "def f(x):\n",
    "    return np.cosh(x) * np.cos(x)\n",
    "\n",
    "# Define os limites do intervalo que contém a raiz\n",
    "a = 4\n",
    "b = 5"
   ]
  },
  {
   "cell_type": "code",
   "execution_count": 3,
   "metadata": {},
   "outputs": [],
   "source": [
    "# Implementa o método da posição falsa\n",
    "def FalsePosition(f, a, b, epsilon=1e-5, disp=False):\n",
    "    iterNum = 1\n",
    "    \n",
    "    fa = f(a)\n",
    "    fb = f(b)\n",
    "    \n",
    "    x = (a*fb - b*fa)/(fb - fa)\n",
    "    fx = f(x)\n",
    "    \n",
    "    if fa*fb >= 0:\n",
    "        print(\"Error!\")\n",
    "        return\n",
    "    \n",
    "    if disp:\n",
    "        print( \"Iter: %3u|a: %.5e|b: %.5e|x: %.5e|f(a): %.5e|f(b): %.5e|f(x): %.5e\" % \\\n",
    "             (iterNum, a, b, x, fa, fb, fx) )\n",
    "        \n",
    "    start = timer()\n",
    "    # Considera tolerância no valor da função\n",
    "    while abs(fx) > epsilon:\n",
    "        iterNum = iterNum+1\n",
    "        if fa*fx < 0:\n",
    "            b = x;\n",
    "            fb = fx;\n",
    "        if fb*fx < 0:\n",
    "            a = x;\n",
    "            fa = fx;\n",
    "        x = (a*fb - b*fa)/(fb - fa)\n",
    "        fx = f(x)\n",
    "        if disp:\n",
    "            print( \"Iter: %3u|a: %.5e|b: %.5e|x: %.5e|f(a): %.5e|f(b): %.5e|f(x): %.5e\" % \\\n",
    "                 (iterNum, a, b, x, fa, fb, fx) )\n",
    "    end = timer()\n",
    "    \n",
    "    print(\"Tempo de execução total: %e segundos\" % (end - start))\n",
    "\n",
    "    return x"
   ]
  },
  {
   "cell_type": "code",
   "execution_count": 4,
   "metadata": {},
   "outputs": [
    {
     "name": "stdout",
     "output_type": "stream",
     "text": [
      "Iter:   1|a: 4.00000e+00|b: 5.00000e+00|x: 4.45886e+00|f(a): -1.78499e+01|f(b): 2.10506e+01|f(x): -1.08356e+01\n",
      "Iter:   2|a: 4.45886e+00|b: 5.00000e+00|x: 4.64275e+00|f(a): -1.08356e+01|f(b): 2.10506e+01|f(x): -3.61267e+00\n",
      "Iter:   3|a: 4.64275e+00|b: 5.00000e+00|x: 4.69508e+00|f(a): -3.61267e+00|f(b): 2.10506e+01|f(x): -9.46867e-01\n",
      "Iter:   4|a: 4.69508e+00|b: 5.00000e+00|x: 4.70821e+00|f(a): -9.46867e-01|f(b): 2.10506e+01|f(x): -2.31884e-01\n",
      "Iter:   5|a: 4.70821e+00|b: 5.00000e+00|x: 4.71138e+00|f(a): -2.31884e-01|f(b): 2.10506e+01|f(x): -5.58322e-02\n",
      "Iter:   6|a: 4.71138e+00|b: 5.00000e+00|x: 4.71215e+00|f(a): -5.58322e-02|f(b): 2.10506e+01|f(x): -1.33880e-02\n",
      "Iter:   7|a: 4.71215e+00|b: 5.00000e+00|x: 4.71233e+00|f(a): -1.33880e-02|f(b): 2.10506e+01|f(x): -3.20712e-03\n",
      "Iter:   8|a: 4.71233e+00|b: 5.00000e+00|x: 4.71238e+00|f(a): -3.20712e-03|f(b): 2.10506e+01|f(x): -7.68094e-04\n",
      "Iter:   9|a: 4.71238e+00|b: 5.00000e+00|x: 4.71239e+00|f(a): -7.68094e-04|f(b): 2.10506e+01|f(x): -1.83945e-04\n",
      "Iter:  10|a: 4.71239e+00|b: 5.00000e+00|x: 4.71239e+00|f(a): -1.83945e-04|f(b): 2.10506e+01|f(x): -4.40511e-05\n",
      "Iter:  11|a: 4.71239e+00|b: 5.00000e+00|x: 4.71239e+00|f(a): -4.40511e-05|f(b): 2.10506e+01|f(x): -1.05493e-05\n",
      "Iter:  12|a: 4.71239e+00|b: 5.00000e+00|x: 4.71239e+00|f(a): -1.05493e-05|f(b): 2.10506e+01|f(x): -2.52633e-06\n",
      "Tempo de execução total: 1.803001e-02 segundos\n"
     ]
    },
    {
     "data": {
      "text/plain": [
       "4.7123889349988195"
      ]
     },
     "execution_count": 4,
     "metadata": {},
     "output_type": "execute_result"
    }
   ],
   "source": [
    "# Chama a função passando os parâmetros\n",
    "FalsePosition(f, a, b, epsilon=1e-5, disp=True)"
   ]
  },
  {
   "cell_type": "code",
   "execution_count": null,
   "metadata": {},
   "outputs": [],
   "source": []
  }
 ],
 "metadata": {
  "kernelspec": {
   "display_name": "Python 3",
   "language": "python",
   "name": "python3"
  },
  "language_info": {
   "codemirror_mode": {
    "name": "ipython",
    "version": 3
   },
   "file_extension": ".py",
   "mimetype": "text/x-python",
   "name": "python",
   "nbconvert_exporter": "python",
   "pygments_lexer": "ipython3",
   "version": "3.6.5"
  }
 },
 "nbformat": 4,
 "nbformat_minor": 2
}
