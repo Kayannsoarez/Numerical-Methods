{
 "cells": [
  {
   "cell_type": "code",
   "execution_count": 1,
   "metadata": {},
   "outputs": [],
   "source": [
    "# Importando a biblioteca numpy e default_timer\n",
    "import numpy as np\n",
    "from timeit import default_timer as timer"
   ]
  },
  {
   "cell_type": "code",
   "execution_count": 2,
   "metadata": {},
   "outputs": [],
   "source": [
    "def RetroSubstitutions(A, b):\n",
    "    \n",
    "    A = np.array(np.mat(A), dtype=float)\n",
    "    b = np.array(np.mat(b), dtype=float)\n",
    "    \n",
    "    N = A.shape[0]\n",
    "    y = np.zeros(N)\n",
    "\n",
    "    print(\"Matriz A:\")\n",
    "    print(A)\n",
    "    print(\"\\n Vetor b:\")\n",
    "    print(b)\n",
    "    \n",
    "    start = timer()\n",
    "    \n",
    "    for i in range(N-1,-1,-1):\n",
    "        s = sum([A[i][j]*y[j] for j in range(i+1,N)])\n",
    "        y[i] = (b[0, i] - s )/A[i][i]\n",
    "\n",
    "    end = timer()\n",
    "\n",
    "    print(\"\\nTempo de execução total aproximado: %e segundos\" % (end - start))\n",
    "    print(\"Tempo aproximado por iteração: %e segundos\" % ((end - start)/N))\n",
    "\n",
    "    print(\"\\nSolução encontrada:\")\n",
    "    print(y[:,None])\n",
    "\n",
    "    return y"
   ]
  },
  {
   "cell_type": "code",
   "execution_count": 3,
   "metadata": {},
   "outputs": [],
   "source": [
    "def Gauss(A, b):\n",
    "    '''Executa o método da eliminação de Gauss para resolver o sistema  linear Ax=b \n",
    "    transformando o sistema em um sistema triangular superior equivalente.\n",
    "    Parâmetros de entrada: A é uma matriz quadrada de ordem n e b é o vetor constante.\n",
    "    Saída: vetor x\n",
    "    '''\n",
    "    ## n é a ordem da matriz A\n",
    "    n = len(A)\n",
    " \n",
    "    ## Para cada etapa k\n",
    "    for k in range(0, n):\n",
    "        ## Para cada linha i\n",
    "        for i in range(k+1, n):\n",
    "            ## Calcula o fator m\n",
    "            m = -A[i][k]/A[k][k]\n",
    "            ## Atualiza a linha i da matriz, percorrendo todas as colunas j\n",
    "            for j in range(0, n):\n",
    "                A[i][j] = A[i][j] + m*A[k][j]\n",
    "            # Atualiza o vetor b na linha i\n",
    "            b[i] = b[i] + m*b[k]\n",
    "\n",
    "            ## Zera o elemento Aik\n",
    "            A[i][k] = 0\n",
    "\n",
    "    # Resolve o sistema triangular superior usando as substituições retroativas\n",
    "    x = RetroSubstitutions(A, b)\n",
    "    return x\n",
    "\n",
    "def Determinant(A):\n",
    "    n = len(A)\n",
    "    det = 1\n",
    "    for k in range(0, n):\n",
    "        det *= A[k][k]\n",
    "    return det"
   ]
  },
  {
   "cell_type": "code",
   "execution_count": 4,
   "metadata": {},
   "outputs": [
    {
     "name": "stdout",
     "output_type": "stream",
     "text": [
      "Matriz A:  \n",
      "[[ 2  2  1  1]\n",
      " [ 1 -1  2 -1]\n",
      " [ 3  2 -3 -2]\n",
      " [ 4  3  2  1]]\n",
      "\n",
      " Vetor b : \n",
      " [ 7  1  4 12]\n",
      "-------------------- Método Aplicado --------------------\n",
      "Matriz A:\n",
      "[[ 2.          2.          1.          1.        ]\n",
      " [ 0.         -2.          1.5        -1.5       ]\n",
      " [ 0.          0.         -5.25       -2.75      ]\n",
      " [ 0.          0.          0.          0.14285714]]\n",
      "\n",
      " Vetor b:\n",
      "[[ 7.   -2.5  -5.25  0.  ]]\n",
      "\n",
      "Tempo de execução total aproximado: 1.543588e-04 segundos\n",
      "Tempo aproximado por iteração: 3.858970e-05 segundos\n",
      "\n",
      "Solução encontrada:\n",
      "[[1.]\n",
      " [2.]\n",
      " [1.]\n",
      " [0.]]\n",
      "Determinante:  3.0\n"
     ]
    }
   ],
   "source": [
    "#Ax=b\n",
    "\n",
    "# Definindo a Matriz A \n",
    "A = [[2,  2, 1,  1],\n",
    "     [1, -1, 2, -1],\n",
    "     [3, 2, -3, -2],\n",
    "     [4, 3,  2,  1]]\n",
    "print(\"Matriz A:  \\n%s\" % np.array(A))\n",
    "\n",
    "# Definindo o Vetor b\n",
    "b = [7, 1, 4, 12]\n",
    "print(\"\\n Vetor b : \\n\", np.array(b))\n",
    "\n",
    "# Concatenando Matriz A com Vetor b: Ab\n",
    "#Ab = np.hstack((A, b))\n",
    "\n",
    "print(\"-\"*20, \"Método Aplicado\", \"-\"*20)\n",
    "\n",
    "# Chama as funções passando os parâmetros\n",
    "x = Gauss(A, b)\n",
    "det = Determinant(A)\n",
    "print(\"Determinante: \", det)"
   ]
  }
 ],
 "metadata": {
  "kernelspec": {
   "display_name": "Python 3",
   "language": "python",
   "name": "python3"
  },
  "language_info": {
   "codemirror_mode": {
    "name": "ipython",
    "version": 3
   },
   "file_extension": ".py",
   "mimetype": "text/x-python",
   "name": "python",
   "nbconvert_exporter": "python",
   "pygments_lexer": "ipython3",
   "version": "3.6.5"
  }
 },
 "nbformat": 4,
 "nbformat_minor": 2
}
