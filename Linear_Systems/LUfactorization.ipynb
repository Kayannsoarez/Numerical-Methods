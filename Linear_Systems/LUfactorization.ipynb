{
  "nbformat": 4,
  "nbformat_minor": 0,
  "metadata": {
    "colab": {
      "provenance": []
    },
    "kernelspec": {
      "name": "python3",
      "display_name": "Python 3"
    },
    "language_info": {
      "name": "python"
    }
  },
  "cells": [
    {
      "cell_type": "code",
      "execution_count": 1,
      "metadata": {
        "id": "6l3lKDUkbOMq"
      },
      "outputs": [],
      "source": [
        "# Importando a biblioteca numpy e default_timer\n",
        "import numpy as np\n",
        "from timeit import default_timer as timer"
      ]
    },
    {
      "cell_type": "code",
      "source": [
        "def SuccSubstitutions(A, b):\n",
        "    '''\n",
        "    Executa o método das substituições sucessivas para resolver o sistema\n",
        "    linear triangular inferior Ax=b.\n",
        "    Parâmetros de entrada: A é uma matriz triangular inferior e b é o vetor constante.\n",
        "    Saída: vetor x\n",
        "    '''\n",
        "\n",
        "    A = np.array(np.mat(A),dtype=float)\n",
        "    b = np.array(np.mat(b),dtype=float)\n",
        "\n",
        "    N = A.shape[0]\n",
        "    y = np.zeros(N)\n",
        "\n",
        "    start = timer()\n",
        "\n",
        "    for i in range(N):\n",
        "        s = sum([A[i][j]*y[j] for j in range(i-1,-1,-1)])\n",
        "        y[i] = (b[0, i] - s )/A[i][i]\n",
        "\n",
        "    end = timer()\n",
        "\n",
        "    return y\n",
        "\n",
        "def RetroSubstitutions(A, b):\n",
        "\n",
        "    A = np.array(np.mat(A), dtype=float)\n",
        "    b = np.array(np.mat(b), dtype=float)\n",
        "\n",
        "    N = A.shape[0]\n",
        "    x = np.zeros(N)\n",
        "\n",
        "    start = timer()\n",
        "\n",
        "    for i in range(N-1,-1,-1):\n",
        "        s = sum([A[i][j]*x[j] for j in range(i+1,N)])\n",
        "        x[i] = (b[0, i] - s )/A[i][i]\n",
        "\n",
        "    end = timer()\n",
        "\n",
        "    print(\"\\nSolução Encontrada:\")\n",
        "    print(x[:,None])\n",
        "\n",
        "    return x"
      ],
      "metadata": {
        "id": "gQVPZPkAbR0C"
      },
      "execution_count": 2,
      "outputs": []
    },
    {
      "cell_type": "code",
      "source": [
        "def Identity(n):\n",
        "    '''\n",
        "    Cria uma matriz identidade de ordem n.\n",
        "    Parâmetros de entrada:  n é a ordem da matriz.\n",
        "    Saída: matriz identidade de ordem n\n",
        "    '''\n",
        "    I = n*[0]\n",
        "    for i in range(n):\n",
        "        I[i] = n*[0]\n",
        "\n",
        "    for i in range(0, n):\n",
        "        I[i][i] = 1\n",
        "    return I\n",
        "\n",
        "def LU(A):\n",
        "    '''\n",
        "    Decompõe a matriz A no produto de duas matrizes L e U. Onde L é uma matriz\n",
        "    triangular inferior unitária e U é uma matriz triangular superior.\n",
        "    Parâmetros de entrada: A é uma matriz quadrada de ordem n.\n",
        "    Saída: (L,U) tupla com as matrizes L e U\n",
        "    '''\n",
        "    n = len(A)\n",
        "\n",
        "    # Inicializa a matriz L com a matriz identidade\n",
        "    L = Identity(n)\n",
        "\n",
        "    # n é a ordem da matriz A\n",
        "    n = len(A)\n",
        "\n",
        "    # Para cada etapa k\n",
        "    for k in range(0, n):\n",
        "        # Para cada linha i\n",
        "        for i in range(k+1, n):\n",
        "            # Calcula o fator m\n",
        "            m = -A[i][k]/A[k][k]\n",
        "            L[i][k] = m*-1\n",
        "\n",
        "            # Atualiza a linha i da matriz, percorrendo todas as colunas j\n",
        "            for j in range(0, n):\n",
        "                A[i][j] = A[i][j] + m*A[k][j]\n",
        "            # Zera o elemento Aik\n",
        "            A[i][k] = 0\n",
        "\n",
        "    return (L, A)"
      ],
      "metadata": {
        "id": "BucF2uj7bUWZ"
      },
      "execution_count": 3,
      "outputs": []
    },
    {
      "cell_type": "code",
      "source": [
        "def SolveLU(A, b):\n",
        "    '''\n",
        "    Executa o método LU para resolver o sistema  linear Ax=b.\n",
        "    Esse método inicialmente decompõe a matriz em L e U e depois resolve os\n",
        "    dois sistemas lineares triangulares.\n",
        "    Parâmetros de entrada: A é uma matriz quadrada de ordem n e b é o vetor constante.\n",
        "    Saída: vetor x solução do sistema.\n",
        "    '''\n",
        "\n",
        "    (L, U) = LU(A)\n",
        "    y = SuccSubstitutions(L, b)\n",
        "    x = RetroSubstitutions(U, y)\n",
        "\n",
        "    return x"
      ],
      "metadata": {
        "id": "yqptwZGgbWpY"
      },
      "execution_count": 4,
      "outputs": []
    },
    {
      "cell_type": "code",
      "source": [
        "# Ax=b\n",
        "# Definindo a Matriz A\n",
        "A = [[2,  2, 1,  1],\n",
        "     [1, -1, 2, -1],\n",
        "     [3, 2, -3, -2],\n",
        "     [4, 3,  2,  1]]\n",
        "print(\"Matriz A:  \\n%s\" % np.array(A))\n",
        "\n",
        "# Definindo o Vetor b\n",
        "b = [7, 1, 4, 12]\n",
        "print(\"\\n Vetor b : \\n\", np.array(b))\n",
        "\n",
        "print(\"-\"*20, \"Método Aplicado\", \"-\"*20)\n",
        "\n",
        "x = SolveLU(A, b)"
      ],
      "metadata": {
        "colab": {
          "base_uri": "https://localhost:8080/"
        },
        "id": "GfZGIBYPbZLr",
        "outputId": "f60a5c24-aab3-454c-f388-ed003672c66f"
      },
      "execution_count": 5,
      "outputs": [
        {
          "output_type": "stream",
          "name": "stdout",
          "text": [
            "Matriz A:  \n",
            "[[ 2  2  1  1]\n",
            " [ 1 -1  2 -1]\n",
            " [ 3  2 -3 -2]\n",
            " [ 4  3  2  1]]\n",
            "\n",
            " Vetor b : \n",
            " [ 7  1  4 12]\n",
            "-------------------- Método Aplicado --------------------\n",
            "\n",
            "Solução Encontrada:\n",
            "[[1.]\n",
            " [2.]\n",
            " [1.]\n",
            " [0.]]\n"
          ]
        }
      ]
    },
    {
      "cell_type": "code",
      "source": [
        "# Ax=b\n",
        "# Definindo a Matriz A\n",
        "A = [[2,  2, 1,  1],\n",
        "     [1, -1, 2, -1],\n",
        "     [3, 2, -3, -2],\n",
        "     [4, 3,  2,  1]]\n",
        "print(\"Matriz A:  \\n%s\" % np.array(A))\n",
        "\n",
        "# Definindo o Vetor b\n",
        "b = [7, 1, 4, 12]\n",
        "print(\"\\n Vetor b : \\n\", np.array(b))\n",
        "\n",
        "print(\"-\"*20, \"Método Aplicado\", \"-\"*20)\n",
        "\n",
        "(L, U) = LU(A)\n",
        "print(\"\\nMatriz L: \\n%s\" % np.array(L))\n",
        "print(\"\\nMatriz U: \\n%s\" % np.array(U))"
      ],
      "metadata": {
        "colab": {
          "base_uri": "https://localhost:8080/"
        },
        "id": "4kS9hcJJbcmu",
        "outputId": "45216944-5bca-4299-851a-b38c5db3fd2c"
      },
      "execution_count": 6,
      "outputs": [
        {
          "output_type": "stream",
          "name": "stdout",
          "text": [
            "Matriz A:  \n",
            "[[ 2  2  1  1]\n",
            " [ 1 -1  2 -1]\n",
            " [ 3  2 -3 -2]\n",
            " [ 4  3  2  1]]\n",
            "\n",
            " Vetor b : \n",
            " [ 7  1  4 12]\n",
            "-------------------- Método Aplicado --------------------\n",
            "\n",
            "Matriz L: \n",
            "[[1.         0.         0.         0.        ]\n",
            " [0.5        1.         0.         0.        ]\n",
            " [1.5        0.5        1.         0.        ]\n",
            " [2.         0.5        0.14285714 1.        ]]\n",
            "\n",
            "Matriz U: \n",
            "[[ 2.          2.          1.          1.        ]\n",
            " [ 0.         -2.          1.5        -1.5       ]\n",
            " [ 0.          0.         -5.25       -2.75      ]\n",
            " [ 0.          0.          0.          0.14285714]]\n"
          ]
        }
      ]
    }
  ]
}