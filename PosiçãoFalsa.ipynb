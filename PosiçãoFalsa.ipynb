{
 "cells": [
  {
   "cell_type": "code",
   "execution_count": 11,
   "metadata": {
    "collapsed": true
   },
   "outputs": [],
   "source": [
    "import math \n",
    "from timeit import default_timer as timer\n",
    "\n"
   ]
  },
  {
   "cell_type": "code",
   "execution_count": 12,
   "metadata": {
    "collapsed": true
   },
   "outputs": [],
   "source": [
    "def f(x):\n",
    "    return x**3 - 10*(x**2) + 5 \n",
    "\n",
    "a, b = 0, 1"
   ]
  },
  {
   "cell_type": "code",
   "execution_count": 16,
   "metadata": {
    "collapsed": true
   },
   "outputs": [],
   "source": [
    "def RegulaFalsi(f, a, b, epsilon=1e-4, disp=False):\n",
    "    iterNum = 1\n",
    "    fa, fb = f(a), f(b)\n",
    "    x = (a*fb - b*fa)/(fb - fa)\n",
    "    fx = f(x)\n",
    "    \n",
    "    if fa*fb >= 0:\n",
    "        print(\"Error!!!\")\n",
    "        return\n",
    "    \n",
    "    if disp:\n",
    "        print( \"Iter: %3u|a: %.5e|b: %.5e|x: %.5e|f(a): %.5e|f(b): %.5e|f(x): %.5e\" % (iterNum, a, b, x, fa, fb, fx) )\n",
    "    \n",
    "    while abs(fx) > epsilon and abs(b-a) > epsilon:\n",
    "        iterNum = iterNum+1\n",
    "        if fa*fx < 0:\n",
    "            b = x;\n",
    "            fb = fx;\n",
    "        else:\n",
    "            a = x;\n",
    "            fa = fx;\n",
    "        x = (a*fb - b*fa)/(fb - fa)\n",
    "        fx = f(x)\n",
    "        if disp:\n",
    "            print( \"Iter: %3u|a: %.5e|b: %.5e|x: %.5e|f(a): %.5e|f(b): %.5e|f(x): %.5e\" % (iterNum, a, b, x, fa, fb, fx) )\n",
    "\n",
    "    return x"
   ]
  },
  {
   "cell_type": "code",
   "execution_count": 22,
   "metadata": {},
   "outputs": [
    {
     "name": "stdout",
     "output_type": "stream",
     "text": [
      "Tempo de execução total: 2.020667e-05 segundos\n",
      "\n",
      "Iter:   1|a: 0.00000e+00|b: 1.00000e+00|x: 5.55556e-01|f(a): 5.00000e+00|f(b): -4.00000e+00|f(x): 2.08505e+00\n",
      "Iter:   2|a: 5.55556e-01|b: 1.00000e+00|x: 7.07845e-01|f(a): 2.08505e+00|f(b): -4.00000e+00|f(x): 3.44218e-01\n",
      "Iter:   3|a: 7.07845e-01|b: 1.00000e+00|x: 7.30994e-01|f(a): 3.44218e-01|f(b): -4.00000e+00|f(x): 4.70853e-02\n",
      "Iter:   4|a: 7.30994e-01|b: 1.00000e+00|x: 7.34124e-01|f(a): 4.70853e-02|f(b): -4.00000e+00|f(x): 6.26990e-03\n",
      "Iter:   5|a: 7.34124e-01|b: 1.00000e+00|x: 7.34540e-01|f(a): 6.26990e-03|f(b): -4.00000e+00|f(x): 8.31901e-04\n",
      "Iter:   6|a: 7.34540e-01|b: 1.00000e+00|x: 7.34595e-01|f(a): 8.31901e-04|f(b): -4.00000e+00|f(x): 1.10325e-04\n",
      "Iter:   7|a: 7.34595e-01|b: 1.00000e+00|x: 7.34602e-01|f(a): 1.10325e-04|f(b): -4.00000e+00|f(x): 1.46302e-05\n"
     ]
    },
    {
     "data": {
      "text/plain": [
       "0.7346023886866092"
      ]
     },
     "execution_count": 22,
     "metadata": {},
     "output_type": "execute_result"
    }
   ],
   "source": [
    "# Tempo de execução\n",
    "start = timer()\n",
    "# algoritmo\n",
    "end = timer()\n",
    "print(\"Tempo de execução total: %e segundos\" % (end - start))\n",
    "print(\"\")\n",
    "\n",
    "RegulaFalsi(f, a, b, epsilon=1e-4, disp=True)\n"
   ]
  },
  {
   "cell_type": "code",
   "execution_count": null,
   "metadata": {
    "collapsed": true
   },
   "outputs": [],
   "source": []
  }
 ],
 "metadata": {
  "kernelspec": {
   "display_name": "Python 3",
   "language": "python",
   "name": "python3"
  },
  "language_info": {
   "codemirror_mode": {
    "name": "ipython",
    "version": 3
   },
   "file_extension": ".py",
   "mimetype": "text/x-python",
   "name": "python",
   "nbconvert_exporter": "python",
   "pygments_lexer": "ipython3",
   "version": "3.6.1"
  }
 },
 "nbformat": 4,
 "nbformat_minor": 2
}
