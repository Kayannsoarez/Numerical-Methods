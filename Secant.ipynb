{
 "cells": [
  {
   "cell_type": "code",
   "execution_count": 1,
   "metadata": {},
   "outputs": [],
   "source": [
    "# Importando a biblioteca numpy e default_timer\n",
    "import numpy as np\n",
    "from timeit import default_timer as timer"
   ]
  },
  {
   "cell_type": "code",
   "execution_count": 2,
   "metadata": {},
   "outputs": [],
   "source": [
    "# Cria a função no qual a raiz deve ser calculada\n",
    "def f(x):\n",
    "    return x**3 - x - 1;\n",
    "\n",
    "# Define os limites do intervalo que contém a raiz\n",
    "a = 0\n",
    "b = 0.5"
   ]
  },
  {
   "cell_type": "code",
   "execution_count": 3,
   "metadata": {},
   "outputs": [],
   "source": [
    "# Implementa o método da secante\n",
    "def Secant(f, x0, x1, epsilon=1e-6, disp=False):\n",
    "    iterNum = 1;\n",
    "    \n",
    "    start = timer()\n",
    "    while True:\n",
    "        x = x1 - f(x1)*(x1 - x0)/(f(x1) - f(x0))\n",
    "        \n",
    "        if disp:\n",
    "            print( \"Iter: %3d | x0: %+.5e | x1: %+.5e | f(x0): %+.5e | f(x1): %+.5e | x: %+.5e\" \\\n",
    "                  % (iterNum, x0, x1, f(x0), f(x1), x) )\n",
    "            \n",
    "        # Considera tolerância no valor da função\n",
    "        if abs(x - x1) < epsilon:\n",
    "            break;\n",
    "        \n",
    "        x0, x1 = x1, x;\n",
    "        iterNum += 1\n",
    "    end = timer()\n",
    "    \n",
    "    print(\"Tempo de execução total: %e segundos\" % (end - start))\n",
    "    \n",
    "    return x  "
   ]
  },
  {
   "cell_type": "code",
   "execution_count": 4,
   "metadata": {},
   "outputs": [
    {
     "name": "stdout",
     "output_type": "stream",
     "text": [
      "Iter:   1 | x0: +0.00000e+00 | x1: +5.00000e-01 | f(x0): -1.00000e+00 | f(x1): -1.37500e+00 | x: -1.33333e+00\n",
      "Iter:   2 | x0: +5.00000e-01 | x1: -1.33333e+00 | f(x0): -1.37500e+00 | f(x1): -2.03704e+00 | x: +4.30769e+00\n",
      "Iter:   3 | x0: -1.33333e+00 | x1: +4.30769e+00 | f(x0): -2.03704e+00 | f(x1): +7.46268e+01 | x: -1.18345e+00\n",
      "Iter:   4 | x0: +4.30769e+00 | x1: -1.18345e+00 | f(x0): +7.46268e+01 | f(x1): -1.47402e+00 | x: -1.07709e+00\n",
      "Iter:   5 | x0: -1.18345e+00 | x1: -1.07709e+00 | f(x0): -1.47402e+00 | f(x1): -1.17246e+00 | x: -6.63569e-01\n",
      "Iter:   6 | x0: -1.07709e+00 | x1: -6.63569e-01 | f(x0): -1.17246e+00 | f(x1): -6.28616e-01 | x: -1.85591e-01\n",
      "Iter:   7 | x0: -6.63569e-01 | x1: -1.85591e-01 | f(x0): -6.28616e-01 | f(x1): -8.20801e-01 | x: -2.22698e+00\n",
      "Iter:   8 | x0: -1.85591e-01 | x1: -2.22698e+00 | f(x0): -8.20801e-01 | f(x1): -9.81762e+00 | x: +6.49670e-04\n",
      "Iter:   9 | x0: -2.22698e+00 | x1: +6.49670e-04 | f(x0): -9.81762e+00 | f(x1): -1.00065e+00 | x: +2.53467e-01\n",
      "Iter:  10 | x0: +6.49670e-04 | x1: +2.53467e-01 | f(x0): -1.00065e+00 | f(x1): -1.23718e+00 | x: -1.06889e+00\n",
      "Iter:  11 | x0: +2.53467e-01 | x1: -1.06889e+00 | f(x0): -1.23718e+00 | f(x1): -1.15234e+00 | x: -1.90300e+01\n",
      "Iter:  12 | x0: -1.06889e+00 | x1: -1.90300e+01 | f(x0): -1.15234e+00 | f(x1): -6.87347e+03 | x: -1.06588e+00\n",
      "Iter:  13 | x0: -1.90300e+01 | x1: -1.06588e+00 | f(x0): -6.87347e+03 | f(x1): -1.14506e+00 | x: -1.06288e+00\n",
      "Iter:  14 | x0: -1.06588e+00 | x1: -1.06288e+00 | f(x0): -1.14506e+00 | f(x1): -1.13788e+00 | x: -5.88515e-01\n",
      "Iter:  15 | x0: -1.06288e+00 | x1: -5.88515e-01 | f(x0): -1.13788e+00 | f(x1): -6.15317e-01 | x: -2.99472e-02\n",
      "Iter:  16 | x0: -5.88515e-01 | x1: -2.99472e-02 | f(x0): -6.15317e-01 | f(x1): -9.70080e-01 | x: -1.55732e+00\n",
      "Iter:  17 | x0: -2.99472e-02 | x1: -1.55732e+00 | f(x0): -9.70080e-01 | f(x1): -3.21958e+00 | x: +6.28722e-01\n",
      "Iter:  18 | x0: -1.55732e+00 | x1: +6.28722e-01 | f(x0): -3.21958e+00 | f(x1): -1.38019e+00 | x: +2.26903e+00\n",
      "Iter:  19 | x0: +6.28722e-01 | x1: +2.26903e+00 | f(x0): -1.38019e+00 | f(x1): +8.41313e+00 | x: +8.59895e-01\n",
      "Iter:  20 | x0: +2.26903e+00 | x1: +8.59895e-01 | f(x0): +8.41313e+00 | f(x1): -1.22407e+00 | x: +1.03888e+00\n",
      "Iter:  21 | x0: +8.59895e-01 | x1: +1.03888e+00 | f(x0): -1.22407e+00 | f(x1): -9.17653e-01 | x: +1.57489e+00\n",
      "Iter:  22 | x0: +1.03888e+00 | x1: +1.57489e+00 | f(x0): -9.17653e-01 | f(x1): +1.33125e+00 | x: +1.25759e+00\n",
      "Iter:  23 | x0: +1.57489e+00 | x1: +1.25759e+00 | f(x0): +1.33125e+00 | f(x1): -2.68660e-01 | x: +1.31087e+00\n",
      "Iter:  24 | x0: +1.25759e+00 | x1: +1.31087e+00 | f(x0): -2.68660e-01 | f(x1): -5.82835e-02 | x: +1.32563e+00\n",
      "Iter:  25 | x0: +1.31087e+00 | x1: +1.32563e+00 | f(x0): -5.82835e-02 | f(x1): +3.91110e-03 | x: +1.32471e+00\n",
      "Iter:  26 | x0: +1.32563e+00 | x1: +1.32471e+00 | f(x0): +3.91110e-03 | f(x1): -5.08628e-05 | x: +1.32472e+00\n",
      "Iter:  27 | x0: +1.32471e+00 | x1: +1.32472e+00 | f(x0): -5.08628e-05 | f(x1): -4.34058e-08 | x: +1.32472e+00\n",
      "Tempo de execução total: 1.892291e-02 segundos\n"
     ]
    },
    {
     "data": {
      "text/plain": [
       "1.324717957244859"
      ]
     },
     "execution_count": 4,
     "metadata": {},
     "output_type": "execute_result"
    }
   ],
   "source": [
    "# Chama a função passando os parâmetros\n",
    "Secant(f, a, b, epsilon=1e-6, disp=True)"
   ]
  },
  {
   "cell_type": "code",
   "execution_count": null,
   "metadata": {},
   "outputs": [],
   "source": []
  }
 ],
 "metadata": {
  "kernelspec": {
   "display_name": "Python 3",
   "language": "python",
   "name": "python3"
  },
  "language_info": {
   "codemirror_mode": {
    "name": "ipython",
    "version": 3
   },
   "file_extension": ".py",
   "mimetype": "text/x-python",
   "name": "python",
   "nbconvert_exporter": "python",
   "pygments_lexer": "ipython3",
   "version": "3.6.5"
  }
 },
 "nbformat": 4,
 "nbformat_minor": 2
}
